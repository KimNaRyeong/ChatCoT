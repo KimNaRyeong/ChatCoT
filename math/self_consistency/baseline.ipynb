{
 "cells": [
  {
   "cell_type": "code",
   "execution_count": 1,
   "metadata": {},
   "outputs": [],
   "source": [
    "import json"
   ]
  },
  {
   "cell_type": "markdown",
   "metadata": {},
   "source": [
    "## Baseline"
   ]
  },
  {
   "cell_type": "code",
   "execution_count": 2,
   "metadata": {},
   "outputs": [],
   "source": [
    "math_cp_reasoning_paths_file = './math_cp_reasoning_paths.json'\n",
    "math_nt_reasoning_paths_file = './math_nt_reasoning_paths.json'\n",
    "\n",
    "with open(math_cp_reasoning_paths_file, 'r') as rf:\n",
    "    math_cp_reasoning_path_dict = json.load(rf)\n",
    "\n",
    "with open(math_nt_reasoning_paths_file, 'r') as rf:\n",
    "    math_nt_reasoning_path_dict = json.load(rf)\n",
    "\n",
    "reasoning_path_for_9 = math_cp_reasoning_path_dict['9'] + math_nt_reasoning_path_dict['9']"
   ]
  },
  {
   "cell_type": "markdown",
   "metadata": {},
   "source": [
    "### Full version"
   ]
  },
  {
   "cell_type": "code",
   "execution_count": 5,
   "metadata": {},
   "outputs": [
    {
     "name": "stdout",
     "output_type": "stream",
     "text": [
      "[False, True, False, False, False, False, False, False, True, False, False, False, False, False, True, False, False, False, False, False, True, True, False, False, False, False, True, False, False, True, False, False, False, False, False, False, False, True, False, False, False, False, False, False, False, False, False, True, False, False, True, False, False, False, False, True, False, False, False, False, True, False, False, True, False, False, False, False, False, True, False, False, False, False, False, False, False, False, False, True, True, False, False, False, False, False, False, False, False, False, False, False, False, False, False, False, True, False, False, False, False, False, False, False, True, False, False, False, False, False, False, False, False, False, False, True, False, False, False, False, True, False, False, False, True, False, True, False, False, True, True, False, True, False, True, False, False, False, False, False, False, False, False, False, False, True, True, False, False, False, False, True, False, False, False, False, False, False, True, False, False, False, False, False, True, False, False, False, False, False, False, False, False, False, False, False, False, True, True, True, False, False, True, True, False, True, False, False, False, False, True, True, False, False, False, True, False, False, False, False, False, True, False, False, False, False, False, False, False, False, False, True, False, True, True, False, True, False, True, False, False, False, False, True, True, False, False, False, False, False, True, True, True, False, False, False, False, False, False, True, True, False, True, False, False, False, False, False, False, True, False, False, False, False, False, False, False, False, False, True, True, False, True, False, False, False, False, False, False, False, False, False, True, True, False, False, True, False, False, False, False, False, False, False, False, False, False, False, False, False, False, False, False, False, False, False, False, False, False, False, False, False, False, False, False, False, False, False, False, False, True, False, True, False, False, False, True, False, False, True, False, False, True, False, True, False, False, False, True, False, False, True, False, False, False, True, False, False, True, True, False, True, False, True, False, False, False, True, False, True, False, True, False, False, True, True, True, False, True, False, True, False, False, True, False, False, False, False, False, True, False, True, False, False, False, False, False, True, False, False, False, True, True, False, False, False, False, False, False, False, False, False, True, False, True, False, False, False, False, False, False, False, False, False, True, False, False, False, False, False, False, False, False, True, False, False, False, True, False, False, False, True, False, False, False, False, False, True, False, False, False, False, False, False, True, True, False, False, False, True, True, False, False, False, False, False, True, True, False, False, False, True, True, False, False, False, True, False, False, False, False, False, False, False, True, False, False, False, False, False, False, False, False, True, False, False, False, False, True, False, False, False, False, False, True, True, True, True, False, False, False, False, False, True, False, False, False, False, False, True, False, False, True, False, False, False, True, False, False, False, False, False, True, False, False, True, False, True, True, False, False, False, False, True, False, False, False, False, False, True, False, True, False, False, False, False, True, False, False, False, True, False, False, False, True, False, True, True, False, False, False, False, False, False, True, False, False, False, True, False, True, False, False, False, False, False, False, False, False, False, False, True, False, False, True, False, False, False, True, True, False, True, False, True, True, True, False, True, False, True, False, False, False, True, True, False, False, False, True, False, False, False, False, False, True, False, False, False, False, True, False, False, False, True, True, False, False, False, True, False, True, False, False, True, False, False, False, False, False, True, True, False, True, True, False, False, False, True, False, True, True, False, False, False, False, False, False, False, False, True, False, False, True, False, False, False, False, True, False, False, True, False, False, False, False, False, False, True, False, False, True, True, False, False, False, False, False, True, False, True, False, False, True, False, False, True, True, False, True, False, False, False, False, True, False, False, True, False, False, False, True, True, False, False, False, False, False, False, True, False, False, False, False, False, False, False, False, False, True, True, True, False, False, False, True, True, False, False, False, False, False, False, False, False, False, False, True, True, True, False, True, True, True, False, False, False, True, True, False, False, False, False, False, False, False, False, False, False, True, False, False, False, False, False, False, False, False, True, False, True, False, False, False, True, True, True, False, False, False, False, False, False, False, True, False, False, True, False, False, False, False, False, True, False, False, True, True, False, False, True, True, True, True, True, False, True, False, False, False, False, False, True, False, False, False, False, False, False, False, False, False, True, False, False, True, True, False, False, False, False, False, False, False, True, False, False, True, False, False, False, False, False, False, True, False, True, False, False, False, True, True, True, True, True, False, True, False, False, False, False, True, True, False, False, False, True, False, False, False, False, False, False, False, False, True, False, True, True, False, False, True, False, True, True, False, False, False, False, False, True, False, True, False, False, True, False, False, False, True, True, False, False, True, False, False, True, False, True, False, False, False, False, False, True, False, False, False, False, False, False, False, True, False, True, False, False, False, True, True, False, True, False, False, False, True, False, False, True, False, False, False, False, False, False, False, True, False, False, True, True, False, True, False, False, False, True, False, True, True, False, True, False, False, False, False, True, False, False, True, True, False, True, True, False, False, False, False, False, False, False, True, False, False, False, True, False, True, False, False, False, False, True, False, False, False, False, False, False, True, False, False, False, False, False, False, False, False, False, True, False, True, False, False, False]\n",
      "1014\n",
      "Baseline accuracy for full version: 0.2603550295857988\n"
     ]
    }
   ],
   "source": [
    "full_labels = []\n",
    "for problem in reasoning_path_for_9:\n",
    "    full_labels.append(problem[\"score\"])\n",
    "\n",
    "print(full_labels)\n",
    "print(len(full_labels))\n",
    "print(f\"Baseline accuracy for full version: {sum(full_labels)/len(full_labels)}\")"
   ]
  },
  {
   "cell_type": "markdown",
   "metadata": {},
   "source": [
    "### Short version"
   ]
  },
  {
   "cell_type": "code",
   "execution_count": 6,
   "metadata": {},
   "outputs": [
    {
     "name": "stdout",
     "output_type": "stream",
     "text": [
      "[False, True, False, False, False, False, False, False, True, False, False, False, False, False, True, False, False, False, False, False, True, True, False, False, False, False, True, False, False, True, False, False, False, False, False, False, False, True, False, False, False, False, False, False, False, False, False, True, False, False, True, False, False, False, False, True, False, False, False, False, True, False, False, True, False, False, False, False, False, True, False, False, False, False, False, False, False, False, False, True, True, False, False, False, False, False, False, False, False, False, False, False, False, False, False, False, True, False, False, False, False, False, False, False, True, False, False, False, False, False, False, False, False, False, True, False, False, False, False, True, False, False, False, True, False, True, False, False, True, True, False, True, False, True, False, False, False, False, False, False, False, False, False, False, True, True, False, False, False, False, True, False, False, False, False, False, False, True, False, False, False, False, False, True, False, False, False, False, False, False, False, False, False, False, False, False, True, True, True, False, False, True, True, False, True, False, False, False, False, True, True, False, False, False, True, False, False, False, False, True, False, False, False, False, False, False, False, False, False, True, False, True, True, False, True, False, True, False, False, False, False, True, True, False, False, False, False, False, True, True, True, False, False, False, False, False, False, True, True, False, True, False, False, False, False, False, False, True, False, False, False, False, False, False, False, False, False, True, True, False, True, False, False, False, False, False, False, False, False, False, True, False, False, True, False, False, False, False, False, False, False, False, False, False, False, False, False, False, False, False, False, False, False, False, False, False, False, False, False, False, False, False, False, False, False, False, False, True, False, True, False, False, False, True, False, False, True, False, False, True, False, True, False, False, False, True, False, False, True, False, False, False, True, False, False, True, True, False, True, False, True, False, False, False, True, False, True, False, True, False, False, True, True, True, False, True, False, True, False, False, True, False, False, False, False, False, True, False, True, False, False, False, False, False, True, False, False, False, True, True, False, False, False, False, False, False, False, False, False, True, False, True, False, False, False, False, False, False, False, False, False, True, False, False, False, False, False, False, False, False, True, False, False, False, True, False, False, False, True, False, False, False, False, False, True, False, False, False, False, False, False, True, True, False, False, False, True, True, False, False, False, False, False, True, True, False, False, False, True, True, False, False, False, True, False, False, False, False, False, False, False, True, False, False, False, False, False, False, False, True, False, False, False, False, True, False, False, False, False, False, True, True, True, True, False, False, False, False, False, True, False, False, False, False, False, True, False, False, True, False, False, False, True, False, False, False, False, False, True, False, False, True, False, True, True, False, False, False, False, False, False, False, False, False, True, False, True, False, False, False, False, True, False, False, False, True, False, False, False, True, False, True, True, False, False, False, False, False, False, True, False, False, False, True, False, True, False, False, False, False, False, False, False, False, False, False, True, False, False, True, False, False, False, True, True, False, True, True, True, True, False, True, False, True, False, False, False, True, True, False, False, False, True, False, False, False, False, False, True, False, False, False, False, True, False, False, False, True, True, False, True, False, True, False, True, False, False, False, False, False, True, True, False, True, True, False, False, False, True, False, True, True, False, False, False, False, False, False, False, False, True, False, False, True, False, False, False, False, True, False, False, True, False, False, False, False, False, False, True, False, False, True, False, False, False, False, False, True, False, True, False, False, True, False, False, True, True, False, True, False, False, False, False, True, False, False, True, False, False, False, True, True, False, False, False, False, False, False, True, False, False, False, False, False, False, False, False, True, True, True, False, False, False, True, True, False, False, False, False, False, False, False, False, False, False, True, True, True, True, True, True, False, False, False, True, True, False, False, False, False, False, False, False, False, False, True, False, False, False, False, False, False, False, True, False, True, False, False, False, True, True, True, False, False, False, False, False, False, False, True, False, False, True, False, False, False, False, True, False, False, True, True, False, False, True, True, True, True, True, False, True, False, False, False, False, False, True, False, False, False, False, False, False, False, False, False, True, False, False, True, True, False, False, False, False, False, False, False, True, False, False, True, False, False, False, False, False, False, True, False, True, False, False, False, True, True, True, True, True, False, True, False, False, False, False, True, True, False, False, False, True, False, False, False, False, False, False, True, False, True, True, False, False, True, False, True, True, False, False, False, False, False, True, False, True, False, False, True, False, False, False, True, True, False, False, True, False, False, True, False, True, False, False, False, False, False, False, False, False, False, False, False, False, True, False, True, False, False, False, True, True, False, True, False, False, False, True, False, False, True, False, False, False, False, False, False, True, False, False, True, True, False, True, False, False, False, False, True, True, False, True, False, False, False, False, True, False, False, True, True, False, True, True, False, False, False, False, False, False, False, True, False, False, False, True, False, True, False, False, False, False, True, False, False, False, False, False, True, False, False, False, False, False, False, False, False, False, True, False, True, False, False, False]\n",
      "993\n",
      "Baseline accuracy for full version: 0.2608257804632427\n"
     ]
    }
   ],
   "source": [
    "short_labels = []\n",
    "for problem in reasoning_path_for_9:\n",
    "    if len(problem[\"arguments_set\"]) < 20:\n",
    "        short_labels.append(problem[\"score\"])\n",
    "\n",
    "print(short_labels)\n",
    "print(len(short_labels))\n",
    "print(f\"Baseline accuracy for full version: {sum(short_labels)/len(short_labels)}\")"
   ]
  },
  {
   "cell_type": "code",
   "execution_count": null,
   "metadata": {},
   "outputs": [],
   "source": []
  }
 ],
 "metadata": {
  "kernelspec": {
   "display_name": "pytorch",
   "language": "python",
   "name": "python3"
  },
  "language_info": {
   "codemirror_mode": {
    "name": "ipython",
    "version": 3
   },
   "file_extension": ".py",
   "mimetype": "text/x-python",
   "name": "python",
   "nbconvert_exporter": "python",
   "pygments_lexer": "ipython3",
   "version": "3.10.16"
  }
 },
 "nbformat": 4,
 "nbformat_minor": 2
}
